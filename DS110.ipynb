{
 "cells": [
  {
   "cell_type": "markdown",
   "metadata": {
    "tags": []
   },
   "source": [
    "### 1. The anonymous or <b>lambda</b> functions are a way of writing functions consisting of a single statement returning the value.  These functions are defined with the <b>lambda</b> keyword, which has no meaning other than \"we are declaring an anonymous function\". For example, the following function squaring the input value:\n",
    "    def square_function(x):\n",
    "        return x**2\n",
    "<p>\n",
    "    Execute this function to square 3 and display the result:"
   ]
  },
  {
   "cell_type": "code",
   "execution_count": 9,
   "metadata": {
    "tags": []
   },
   "outputs": [],
   "source": [
    "def square_function(x):\n",
    "    return x**2"
   ]
  },
  {
   "cell_type": "code",
   "execution_count": 14,
   "metadata": {
    "tags": []
   },
   "outputs": [
    {
     "name": "stdout",
     "output_type": "stream",
     "text": [
      "The result of square function = 9\n"
     ]
    }
   ],
   "source": [
    "print('The result of square function =', square_function(3))"
   ]
  },
  {
   "cell_type": "markdown",
   "metadata": {},
   "source": [
    "### Write the equivalent <b>lambda</b> function, execute it to square 3, and disply the result:"
   ]
  },
  {
   "cell_type": "code",
   "execution_count": 15,
   "metadata": {},
   "outputs": [
    {
     "name": "stdout",
     "output_type": "stream",
     "text": [
      "9\n"
     ]
    }
   ],
   "source": [
    "# Define the lambda function\n",
    "square_function = lambda x: x**2\n",
    "\n",
    "# Execute the function to square 3\n",
    "result = square_function(3)\n",
    "\n",
    "# Display the result\n",
    "print(result)\n"
   ]
  },
  {
   "cell_type": "markdown",
   "metadata": {},
   "source": [
    "### 2. Flatten an array with four methods: <b>reshape</b>, <b>resize</b>, <b>flatten</b>, and <b>ravel</b>. For each method, create a 3-by-4 array named \"powers\" containing the first 12 powers of 4 beginning with 4<sup>0</sup>, flatten the array and assign this flattened array to \"flattened\", display the result of \"flattened\" and then display the original array to show whether it was modified or unmodified, modify the first element of \"flattened\" to 10 and display results of \"flattened\" and the original array \"powers\" to show whether it was modified or unmodified."
   ]
  },
  {
   "cell_type": "code",
   "execution_count": 2,
   "metadata": {
    "tags": []
   },
   "outputs": [],
   "source": [
    "import numpy as np"
   ]
  },
  {
   "cell_type": "code",
   "execution_count": 48,
   "metadata": {},
   "outputs": [
    {
     "name": "stdout",
     "output_type": "stream",
     "text": [
      "Create a 3-by-4 array named \"powers\" containing the first 12 powers of 4\n",
      "\n",
      "Original array:\n",
      " [[      1       4      16      64]\n",
      " [    256    1024    4096   16384]\n",
      " [  65536  262144 1048576 4194304]]\n",
      "\n",
      "Flattened (reshape):\n",
      " [      1       4      16      64     256    1024    4096   16384   65536\n",
      "  262144 1048576 4194304]\n",
      "\n",
      "Original array (after reshape):\n",
      " [[      1       4      16      64]\n",
      " [    256    1024    4096   16384]\n",
      " [  65536  262144 1048576 4194304]]\n",
      "\n",
      "Flattened (flatten):\n",
      " [      1       4      16      64     256    1024    4096   16384   65536\n",
      "  262144 1048576 4194304]\n",
      "\n",
      "Original array (after flatten):\n",
      " [[      1       4      16      64]\n",
      " [    256    1024    4096   16384]\n",
      " [  65536  262144 1048576 4194304]]\n",
      "\n",
      "Flattened (ravel):\n",
      " [      1       4      16      64     256    1024    4096   16384   65536\n",
      "  262144 1048576 4194304]\n",
      "\n",
      "Original array (after ravel):\n",
      " [[      1       4      16      64]\n",
      " [    256    1024    4096   16384]\n",
      " [  65536  262144 1048576 4194304]]\n",
      "\n",
      "Modified flattened (ravel):\n",
      " [     10       4      16      64     256    1024    4096   16384   65536\n",
      "  262144 1048576 4194304]\n",
      "\n",
      "Original array (after modifying flattened):\n",
      " [[     10       4      16      64]\n",
      " [    256    1024    4096   16384]\n",
      " [  65536  262144 1048576 4194304]]\n"
     ]
    }
   ],
   "source": [
    "import numpy as np\n",
    "\n",
    "print('Create a 3-by-4 array named \"powers\" containing the first 12 powers of 4')\n",
    "powers = np.array([4**i for i in range(12)]).reshape(3, 4)\n",
    "print(\"\\nOriginal array:\\n\",powers)\n",
    "# Flatten using reshape\n",
    "flattened_reshape = powers.reshape(-1)\n",
    "print(\"\\nFlattened (reshape):\\n\", flattened_reshape)\n",
    "print(\"\\nOriginal array (after reshape):\\n\", powers)\n",
    "\n",
    "# Flatten using flatten\n",
    "flattened_flatten = powers.flatten()\n",
    "print(\"\\nFlattened (flatten):\\n\", flattened_flatten)\n",
    "print(\"\\nOriginal array (after flatten):\\n\", powers)\n",
    "\n",
    "# Flatten using ravel\n",
    "flattened_ravel = powers.ravel()\n",
    "print(\"\\nFlattened (ravel):\\n\", flattened_ravel)\n",
    "print(\"\\nOriginal array (after ravel):\\n\", powers)\n",
    "\n",
    "# Modify the first element of \"flattened_ravel\"\n",
    "flattened_ravel[0] = 10\n",
    "print(\"\\nModified flattened (ravel):\\n\", flattened_ravel)\n",
    "print(\"\\nOriginal array (after modifying flattened):\\n\", powers)\n"
   ]
  },
  {
   "cell_type": "code",
   "execution_count": 44,
   "metadata": {},
   "outputs": [
    {
     "name": "stdout",
     "output_type": "stream",
     "text": [
      "\n",
      "Original 'powers' array after modification:\n",
      "[[     10       4      16      64]\n",
      " [    256    1024    4096   16384]\n",
      " [  65536  262144 1048576 4194304]]\n",
      "\n",
      "Flattened with reshape after modification:\n",
      "[     10       4      16      64     256    1024    4096   16384   65536\n",
      "  262144 1048576 4194304]\n",
      "\n",
      "Flattened with resize after modification:\n",
      "[     10       4      16      64     256    1024    4096   16384   65536\n",
      "  262144 1048576 4194304]\n",
      "\n",
      "Flattened with flatten after modification:\n",
      "[     10       4      16      64     256    1024    4096   16384   65536\n",
      "  262144 1048576 4194304]\n",
      "\n",
      "Flattened with ravel after modification:\n",
      "[     10       4      16      64     256    1024    4096   16384   65536\n",
      "  262144 1048576 4194304]\n"
     ]
    }
   ],
   "source": [
    "# Now modify the first element of each flattened array to 10\n",
    "flattened_reshape[0] = 10\n",
    "flattened_resize[0] = 10\n",
    "flattened_flatten[0] = 10\n",
    "flattened_ravel[0] = 10\n",
    "\n",
    "# Display the results of the flattened arrays and the original \"powers\" array after modification\n",
    "print(\"\\nOriginal 'powers' array after modification:\")\n",
    "print(powers)\n",
    "print(\"\\nFlattened with reshape after modification:\")\n",
    "print(flattened_reshape)\n",
    "print(\"\\nFlattened with resize after modification:\")\n",
    "print(flattened_resize)\n",
    "print(\"\\nFlattened with flatten after modification:\")\n",
    "print(flattened_flatten)\n",
    "print(\"\\nFlattened with ravel after modification:\")\n",
    "print(flattened_ravel)"
   ]
  },
  {
   "cell_type": "markdown",
   "metadata": {},
   "source": [
    "### 3 Python Pandas DataFrame"
   ]
  },
  {
   "cell_type": "markdown",
   "metadata": {
    "tags": []
   },
   "source": [
    "### (a) Create a Pandas DataFrame containing the following information:\n",
    "<pre>\n",
    "   Name  Score  Year\n",
    "Vanessa    100  Junior\n",
    "   Nick     95  Senior\n",
    "   Jack     69  Junior\n",
    " Olivia     88  Senior\n",
    "</pre>\n",
    "This is the original DataFrame."
   ]
  },
  {
   "cell_type": "code",
   "execution_count": 50,
   "metadata": {
    "tags": []
   },
   "outputs": [
    {
     "name": "stdout",
     "output_type": "stream",
     "text": [
      "      Name  Score    Year\n",
      "0  Vanessa    100  Junior\n",
      "1     Nick     95  Senior\n",
      "2     Jack     69  Junior\n",
      "3   Olivia     88  Senior\n"
     ]
    }
   ],
   "source": [
    "import pandas as pd\n",
    "\n",
    "# Create a DataFrame with the given information\n",
    "data = {\n",
    "    'Name': ['Vanessa', 'Nick', 'Jack', 'Olivia'],\n",
    "    'Score': [100, 95, 69, 88],\n",
    "    'Year': ['Junior', 'Senior', 'Junior', 'Senior']\n",
    "}\n",
    "\n",
    "df = pd.DataFrame(data)\n",
    "\n",
    "# Display the DataFrame\n",
    "print(df)\n"
   ]
  },
  {
   "cell_type": "markdown",
   "metadata": {},
   "source": [
    "### (b) Create a DataFrame named temp by including only the columns Name and Score in two different ways, with one way using the loc operator. Display the results of temp."
   ]
  },
  {
   "cell_type": "code",
   "execution_count": 54,
   "metadata": {},
   "outputs": [
    {
     "name": "stdout",
     "output_type": "stream",
     "text": [
      "      Name  Score\n",
      "0  Vanessa    100\n",
      "1     Nick     95\n",
      "2     Jack     69\n",
      "3   Olivia     88\n",
      "\n",
      "      Name  Score\n",
      "0  Vanessa    100\n",
      "1     Nick     95\n",
      "2     Jack     69\n",
      "3   Olivia     88\n"
     ]
    }
   ],
   "source": [
    "# Method 1: Selecting the columns directly by specifying them\n",
    "temp_1 = df[['Name', 'Score']]\n",
    "\n",
    "# Method 2: Using the loc operator to select the columns\n",
    "temp_2 = df.loc[:, ['Name', 'Score']]\n",
    "\n",
    "# Display both results\n",
    "print(temp_1)\n",
    "print()\n",
    "print(temp_2)"
   ]
  },
  {
   "cell_type": "markdown",
   "metadata": {},
   "source": [
    "### (c) Create a DataFrame named temp2 from temp by including only data for Vanessa and Olivia using the iloc operator. Display the result of temp2."
   ]
  },
  {
   "cell_type": "code",
   "execution_count": 72,
   "metadata": {
    "tags": []
   },
   "outputs": [
    {
     "name": "stdout",
     "output_type": "stream",
     "text": [
      "      Name  Score\n",
      "0  Vanessa    100\n",
      "3   Olivia     88\n"
     ]
    }
   ],
   "source": [
    "\n",
    "\n",
    "# Using the iloc operator to select the rows for Vanessa and Olivia\n",
    "temp2 = temp_1.iloc[[0, 3]]  # Row indices 0 and 3 correspond to Vanessa and Olivia\n",
    "\n",
    "# Display the result\n",
    "print(temp2)\n"
   ]
  },
  {
   "cell_type": "markdown",
   "metadata": {},
   "source": [
    "### (d) Create a DataFrame named temp3 from the original DataFrame by including only the data for Vanessa and Olivia using the iloc operator."
   ]
  },
  {
   "cell_type": "code",
   "execution_count": 71,
   "metadata": {
    "tags": []
   },
   "outputs": [
    {
     "name": "stdout",
     "output_type": "stream",
     "text": [
      "      Name  Score    Year\n",
      "0  Vanessa    100  Junior\n",
      "3   Olivia     88  Senior\n"
     ]
    }
   ],
   "source": [
    "# Using the iloc operator to select the rows for Vanessa and Olivia from the original DataFrame\n",
    "temp3 = df.iloc[[0, 3]]  # Row indices 0 and 3 correspond to Vanessa and Olivia\n",
    "\n",
    "# Display the result\n",
    "print(temp3)\n"
   ]
  },
  {
   "cell_type": "markdown",
   "metadata": {},
   "source": [
    "### (e) Use the describe method to produce descriptive statistics of score in the original DataFrame. "
   ]
  },
  {
   "cell_type": "code",
   "execution_count": 73,
   "metadata": {
    "tags": []
   },
   "outputs": [
    {
     "data": {
      "text/html": [
       "<div>\n",
       "<style scoped>\n",
       "    .dataframe tbody tr th:only-of-type {\n",
       "        vertical-align: middle;\n",
       "    }\n",
       "\n",
       "    .dataframe tbody tr th {\n",
       "        vertical-align: top;\n",
       "    }\n",
       "\n",
       "    .dataframe thead th {\n",
       "        text-align: right;\n",
       "    }\n",
       "</style>\n",
       "<table border=\"1\" class=\"dataframe\">\n",
       "  <thead>\n",
       "    <tr style=\"text-align: right;\">\n",
       "      <th></th>\n",
       "      <th>Score</th>\n",
       "    </tr>\n",
       "  </thead>\n",
       "  <tbody>\n",
       "    <tr>\n",
       "      <th>count</th>\n",
       "      <td>4.000000</td>\n",
       "    </tr>\n",
       "    <tr>\n",
       "      <th>mean</th>\n",
       "      <td>88.000000</td>\n",
       "    </tr>\n",
       "    <tr>\n",
       "      <th>std</th>\n",
       "      <td>13.589211</td>\n",
       "    </tr>\n",
       "    <tr>\n",
       "      <th>min</th>\n",
       "      <td>69.000000</td>\n",
       "    </tr>\n",
       "    <tr>\n",
       "      <th>25%</th>\n",
       "      <td>83.250000</td>\n",
       "    </tr>\n",
       "    <tr>\n",
       "      <th>50%</th>\n",
       "      <td>91.500000</td>\n",
       "    </tr>\n",
       "    <tr>\n",
       "      <th>75%</th>\n",
       "      <td>96.250000</td>\n",
       "    </tr>\n",
       "    <tr>\n",
       "      <th>max</th>\n",
       "      <td>100.000000</td>\n",
       "    </tr>\n",
       "  </tbody>\n",
       "</table>\n",
       "</div>"
      ],
      "text/plain": [
       "            Score\n",
       "count    4.000000\n",
       "mean    88.000000\n",
       "std     13.589211\n",
       "min     69.000000\n",
       "25%     83.250000\n",
       "50%     91.500000\n",
       "75%     96.250000\n",
       "max    100.000000"
      ]
     },
     "execution_count": 73,
     "metadata": {},
     "output_type": "execute_result"
    }
   ],
   "source": [
    "df.describe()"
   ]
  },
  {
   "cell_type": "markdown",
   "metadata": {},
   "source": [
    "### (f) Sort original DataFrame by Score in descending order. Display the sorted DataFrame."
   ]
  },
  {
   "cell_type": "code",
   "execution_count": 74,
   "metadata": {
    "tags": []
   },
   "outputs": [
    {
     "name": "stdout",
     "output_type": "stream",
     "text": [
      "      Name  Score    Year\n",
      "0  Vanessa    100  Junior\n",
      "1     Nick     95  Senior\n",
      "3   Olivia     88  Senior\n",
      "2     Jack     69  Junior\n"
     ]
    }
   ],
   "source": [
    "# Sorting the original DataFrame by Score in descending order\n",
    "sorted_df = df.sort_values(by='Score', ascending=False)\n",
    "\n",
    "# Display the sorted DataFrame\n",
    "print(sorted_df)\n"
   ]
  },
  {
   "cell_type": "code",
   "execution_count": null,
   "metadata": {},
   "outputs": [],
   "source": []
  },
  {
   "cell_type": "code",
   "execution_count": null,
   "metadata": {},
   "outputs": [],
   "source": []
  }
 ],
 "metadata": {
  "kernelspec": {
   "display_name": "Python 3 (ipykernel)",
   "language": "python",
   "name": "python3"
  },
  "language_info": {
   "codemirror_mode": {
    "name": "ipython",
    "version": 3
   },
   "file_extension": ".py",
   "mimetype": "text/x-python",
   "name": "python",
   "nbconvert_exporter": "python",
   "pygments_lexer": "ipython3",
   "version": "3.9.7"
  }
 },
 "nbformat": 4,
 "nbformat_minor": 4
}
